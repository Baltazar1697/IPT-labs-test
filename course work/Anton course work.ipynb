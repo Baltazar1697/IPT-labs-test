{
 "cells": [
  {
   "cell_type": "code",
   "execution_count": 164,
   "metadata": {},
   "outputs": [],
   "source": [
    "import pandas as pd\n",
    "import numpy as np\n",
    "\n",
    "df = pd.read_csv(\"breweries_us.csv\", encoding = 'utf-8') #parsing csv\n",
    "\n",
    "df = df[df.website.str.len() != 145] #deleting series without websites\n",
    "df.index = range(1,len(df)+1) #reindexing dataframe\n",
    "\n",
    "print(df.sample(10)[['brewery_name','state','website','state_breweries']])\n",
    "def append(dataframe, l): #appending a list to the dataframe \n",
    "    dataframe.loc[-1] = l  # adding a row\n",
    "    dataframe.index = dataframe.index + 1  # shifting index\n",
    "    dataframe = dataframe.sort_index()"
   ]
  },
  {
   "cell_type": "code",
   "execution_count": 161,
   "metadata": {},
   "outputs": [
    {
     "name": "stdout",
     "output_type": "stream",
     "text": [
      "Большt 2, но менее 20 пивных в штатах: \n",
      " ['new-hampshire', 'nevada', 'north-dakota', 'west-virginia', 'louisiana', 'iowa', 'delaware', 'puerto-rico', 'oklahoma', 'south-dakota', 'nebraska', 'alaska', 'alabama', 'connecticut', 'washington-dc', 'hawaii', 'arkansas', 'wyoming', 'kentucky', 'rhode-island']\n"
     ]
    }
   ],
   "source": [
    "unique_states = selection.state.unique() \n",
    "minimal = list(set(df[(df.state_breweries>=2) & (df.state_breweries <=20 )]['state'])) #creating list with breweries more 2 less 20\n",
    "print ('Большt 2, но менее 20 пивных в штатах: \\n',minimal)"
   ]
  },
  {
   "cell_type": "code",
   "execution_count": 162,
   "metadata": {},
   "outputs": [
    {
     "name": "stdout",
     "output_type": "stream",
     "text": [
      "Наибольшая сеть пивных в стране - \n",
      " http://www.rockbottom.com/    34\n",
      "Name: website, dtype: int64\n"
     ]
    }
   ],
   "source": [
    "selection = df[['type', 'website', 'state']] #creating selection for type, website and state\n",
    "counted = pd.DataFrame(selection.website.value_counts()) # dataframe with counted for every website\n",
    "v = counted.idxmax().values #finding max value\n",
    "print('Наибольшая сеть пивных в стране - \\n', counted.website[v])"
   ]
  },
  {
   "cell_type": "code",
   "execution_count": 163,
   "metadata": {},
   "outputs": [
    {
     "name": "stdout",
     "output_type": "stream",
     "text": [
      "Список самых крупных сетей пивных в каждом штате:\n",
      "                type                                     state       website\n",
      "50      california              http://www.bjsbrewhouse.com/       Brewpub\n",
      "49          nevada          http://www.mainstreetcasino.com/       Brewpub\n",
      "48         wyoming         http://www.snakeriverbrewing.com/       Brewpub\n",
      "47         alabama         http://www.goodpeoplebrewing.com/       Brewpub\n",
      "46     connecticut          http://www.southportbrewing.com/       Brewpub\n",
      "45            iowa                      http://www.gcfb.net/       Brewpub\n",
      "44        missouri                    http://75thstreet.com/       Brewpub\n",
      "43        nebraska           http://www.upstreambrewing.com/       Brewpub\n",
      "42          alaska               http://www.alaskabeers.com/  Microbrewery\n",
      "41         arizona                http://www.rockbottom.com/       Brewpub\n",
      "40        arkansas                     http://www.chits.com/       Brewpub\n",
      "39        colorado                   http://www.cbpotts.com/       Brewpub\n",
      "38        delaware           http://www.ironhillbrewery.com/       Brewpub\n",
      "37         florida           http://www.hopsrestaurants.com/       Brewpub\n",
      "36         georgia           http://www.5seasonsbrewing.com/       Brewpub\n",
      "35          hawaii             http://www.mauibrewingco.com/       Brewpub\n",
      "34           idaho                http://www.cdabrewing.com/       Brewpub\n",
      "33        illinois                http://www.rockbottom.com/       Brewpub\n",
      "32         indiana   http://www.mishawakabrewingcompany.com/       Brewpub\n",
      "31          kansas                      http://www.gcfb.net/       Brewpub\n",
      "30        kentucky                   http://www.bbcbrew.com/       Brewpub\n",
      "29       louisiana                     http://www.abita.com/  Microbrewery\n",
      "28           maine             http://www.sebagobrewing.com/       Brewpub\n",
      "27        maryland                    http://www.duclaw.com/       Brewpub\n",
      "26   massachusetts                 http://www.beerworks.net/  Microbrewery\n",
      "25        michigan                 http://www.bellsbeer.com/       Brewpub\n",
      "24       minnesota                      http://www.gcfb.net/       Brewpub\n",
      "23         montana      http://www.lewisandclarkbrewing.com/  Microbrewery\n",
      "22   new-hampshire                  http://www.nutfield.com/       Brewpub\n",
      "21      new-jersey                    http://www.basilt.com/       Brewpub\n",
      "20      new-mexico       http://www.secondstreetbrewery.com/       Brewpub\n",
      "19        new-york        http://www.flyingbisonbrewing.com/       Brewpub\n",
      "18  north-carolina            http://www.bigbossbrewing.com/  Microbrewery\n",
      "17    north-dakota            http://www.theoldbroadway.com/       Brewpub\n",
      "16            ohio            http://www.barleysbrewing.com/       Brewpub\n",
      "15        oklahoma   http://www.coachsrestaurantbrewery.com/       Brewpub\n",
      "14          oregon            http://www.mcmenaminspubs.com/       Brewpub\n",
      "13    pennsylvania           http://www.ironhillbrewery.com/       Brewpub\n",
      "12    rhode-island   http://www.blockislandreservations.com/       Brewpub\n",
      "11  south-carolina              http://www.coastbrewing.com/       Brewpub\n",
      "10    south-dakota              http://www.badlandsbrew.com/       Brewpub\n",
      "9        tennessee            http://www.bigrivergrille.com/       Brewpub\n",
      "8            texas                   http://www.tworows.com/       Brewpub\n",
      "7             utah              http://www.wasatchbeers.com/       Brewpub\n",
      "6          vermont         http://www.americanflatbread.com/       Brewpub\n",
      "5         virginia  http://www.greatamericanrestaurants.com/       Brewpub\n",
      "4       washington                    http://www.theram.com/       Brewpub\n",
      "3    west-virginia      http://www.mountainstatebrewing.com/       Brewpub\n",
      "2        wisconsin             http://www.legendseatery.com/       Brewpub\n",
      "1    washington-dc               http://www.capcitybrew.com/       Brewpub\n",
      "0      puerto-rico              http://oldharborbrewery.com/       Brewpub\n"
     ]
    }
   ],
   "source": [
    "list_of_states = pd.DataFrame(columns = {'state','website', 'type'})\n",
    "for x in unique_states:\n",
    "    new_selection = selection[selection['state'] == x] #selecting new state\n",
    "    type_count = new_selection.type.value_counts().idxmax() #counts brewerys with type\n",
    "    l = [x,new_selection.website.value_counts().idxmax(), type_count] #creating list with values [state, max brewery net]\n",
    "    append(list_of_states,l)\n",
    "print('Список самых крупных сетей пивных в каждом штате:\\n ',list_of_states)"
   ]
  },
  {
   "cell_type": "code",
   "execution_count": 190,
   "metadata": {},
   "outputs": [
    {
     "name": "stdout",
     "output_type": "stream",
     "text": [
      "                 type                                            website  \\\n",
      "1             Brewpub                         http://www.valleybrew.com/   \n",
      "3        Microbrewery                         http://www.valleybrew.com/   \n",
      "5             Brewpub                      http://www.tustinbrewery.com/   \n",
      "7     RegionalBrewery               http://www.trumer-international.com/   \n",
      "9             Brewpub                          http://www.tiedhouse.com/   \n",
      "...               ...                                                ...   \n",
      "1841          Brewpub                        http://www.angryminnow.com/   \n",
      "1843  ContractBrewery                        http://www.foggybottom.com/   \n",
      "1845          Brewpub                      http://www.gordonbiersch.com/   \n",
      "1847          Brewpub  http://www.chophouse.com/RockBottomWeb/CH/Home...   \n",
      "1849          Brewpub                        http://www.capcitybrew.com/   \n",
      "\n",
      "              state  \n",
      "1        california  \n",
      "3        california  \n",
      "5        california  \n",
      "7        california  \n",
      "9        california  \n",
      "...             ...  \n",
      "1841      wisconsin  \n",
      "1843  washington-dc  \n",
      "1845  washington-dc  \n",
      "1847  washington-dc  \n",
      "1849  washington-dc  \n",
      "\n",
      "[925 rows x 3 columns]\n"
     ]
    }
   ],
   "source": [
    "def select_double_items(dataframe): #even number function\n",
    "    new_df = dataframe.loc[dataframe.index%2 == 0] #using loc\n",
    "    print(new_df)\n",
    "def select_indouble_items(dataframe): #odd numbers function\n",
    "    new_df = dataframe.iloc[dataframe.index%2 != 0] #using iloc\n",
    "    print(new_df) \n",
    "select_double_items(selection)\n",
    "select_indouble_items(selection)"
   ]
  },
  {
   "cell_type": "code",
   "execution_count": null,
   "metadata": {},
   "outputs": [],
   "source": []
  }
 ],
 "metadata": {
  "kernelspec": {
   "display_name": "Python 3",
   "language": "python",
   "name": "python3"
  },
  "language_info": {
   "codemirror_mode": {
    "name": "ipython",
    "version": 3
   },
   "file_extension": ".py",
   "mimetype": "text/x-python",
   "name": "python",
   "nbconvert_exporter": "python",
   "pygments_lexer": "ipython3",
   "version": "3.8.5"
  }
 },
 "nbformat": 4,
 "nbformat_minor": 4
}
